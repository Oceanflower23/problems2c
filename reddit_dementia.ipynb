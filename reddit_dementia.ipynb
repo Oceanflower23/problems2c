{
  "nbformat": 4,
  "nbformat_minor": 0,
  "metadata": {
    "colab": {
      "provenance": []
    },
    "kernelspec": {
      "name": "python3",
      "display_name": "Python 3"
    },
    "language_info": {
      "name": "python"
    }
  },
  "cells": [
    {
      "cell_type": "markdown",
      "source": [
        "Reddit Data on Dementia"
      ],
      "metadata": {
        "id": "jwfMgpQp81ib"
      }
    },
    {
      "cell_type": "markdown",
      "source": [
        "Data collection"
      ],
      "metadata": {
        "id": "gtuuWwMX6i7P"
      }
    },
    {
      "cell_type": "code",
      "source": [
        "pip install praw\n"
      ],
      "metadata": {
        "id": "BwlDlIXWhaLM"
      },
      "execution_count": null,
      "outputs": []
    },
    {
      "cell_type": "code",
      "source": [
        "import praw\n",
        "\n",
        "reddit = praw.Reddit(\n",
        "    client_id=\"xyx\",\n",
        "    client_secret=\"wyx\",\n",
        "    user_agent=\"http://localhost:8080\"\n",
        ")\n",
        "\n",
        "subreddits = reddit.subreddit('Alzheimers+AlzheimersSupport+dementia+AlzheimersGroup')\n",
        "\n",
        "file_path = 'reddit_comments.txt'\n",
        "\n",
        "\n",
        "with open(file_path, 'w', encoding='utf-8') as file:\n",
        "  \n",
        "    for submission in subreddits.new(limit=None):\n",
        "        submission.comments.replace_more(limit=None)  \n",
        "        \n",
        "        for comment in submission.comments.list():\n",
        "  \n",
        "            comment_data = {\n",
        "                'submission_id': submission.id,\n",
        "                'comment_id': comment.id,\n",
        "                'author': comment.author.name if comment.author else '[deleted]',\n",
        "                'text': comment.body,\n",
        "                'created_utc': comment.created_utc,\n",
        "                'permalink': comment.permalink,\n",
        "            }\n",
        "            \n",
        "       \n",
        "            file.write(str(comment_data) + '\\n')\n",
        "\n"
      ],
      "metadata": {
        "id": "5_HTpfYEolCL"
      },
      "execution_count": null,
      "outputs": []
    },
    {
      "cell_type": "code",
      "source": [
        "with open('reddit_comments.txt', 'r') as file:\n",
        "    content = file.read()\n"
      ],
      "metadata": {
        "id": "lLguM_uhoNd4"
      },
      "execution_count": null,
      "outputs": []
    },
    {
      "cell_type": "markdown",
      "source": [
        "Clean and preprocess data"
      ],
      "metadata": {
        "id": "JSYJOXnH6yfC"
      }
    },
    {
      "cell_type": "code",
      "source": [
        "import csv\n",
        "import re\n",
        "import nltk\n",
        "from nltk.corpus import stopwords\n",
        "from nltk.stem import WordNetLemmatizer\n",
        "\n",
        "nltk.download('punkt')\n",
        "nltk.download('stopwords')\n",
        "nltk.download('wordnet')\n",
        "\n",
        "def preprocess_text(text):\n",
        "    text = re.sub(r'http\\S+|www\\S+', '', text)\n",
        "    \n",
        "    text = re.sub(r'[^a-zA-Z\\s]', '', text)\n",
        "  \n",
        "    tokens = nltk.word_tokenize(text)\n",
        "    stop_words = set(stopwords.words('english'))\n",
        "    tokens = [token for token in tokens if token.lower() not in stop_words]\n",
        "    lemmatizer = WordNetLemmatizer()\n",
        "    tokens = [lemmatizer.lemmatize(token) for token in tokens]\n",
        "    \n",
        "    preprocessed_text = ' '.join(tokens)\n",
        "    \n",
        "    return preprocessed_text\n",
        "\n",
        "preprocessed_comments = []\n",
        "for comment in comments:\n",
        "    preprocessed_comment = {\n",
        "        'comment_id': comment['comment_id'],\n",
        "        'preprocessed_text': preprocess_text(comment['text'])\n",
        "    }\n",
        "    preprocessed_comments.append(preprocessed_comment)\n",
        "\n",
        "#save the clean comments\n",
        "csv_file = 'preprocessed_comments.csv'\n",
        "fieldnames = ['comment_id', 'preprocessed_text']\n",
        "\n",
        "with open(csv_file, 'w', newline='') as file:\n",
        "    writer = csv.DictWriter(file, fieldnames=fieldnames)\n",
        "    writer.writeheader()\n",
        "    writer.writerows(preprocessed_comments)\n"
      ],
      "metadata": {
        "id": "k6EADJrAsWWq"
      },
      "execution_count": null,
      "outputs": []
    },
    {
      "cell_type": "markdown",
      "source": [
        "SENTIMENT ANALYSIS"
      ],
      "metadata": {
        "id": "Hvx1t7PStooH"
      }
    },
    {
      "cell_type": "code",
      "source": [
        "import nltk\n",
        "from nltk.sentiment import SentimentIntensityAnalyzer\n",
        "\n",
        "nltk.download('vader_lexicon')\n",
        "\n",
        "def analyze_sentiment(text):\n",
        "    analyzer = SentimentIntensityAnalyzer()\n",
        "    sentiment_scores = analyzer.polarity_scores(text)\n",
        "    \n",
        "    compound_score = sentiment_scores['compound']\n",
        "    if compound_score >= 0.05:\n",
        "        sentiment = 'positive'\n",
        "    elif compound_score <= -0.05:\n",
        "        sentiment = 'negative'\n",
        "    else:\n",
        "        sentiment = 'neutral'\n",
        "    \n",
        "    return sentiment\n",
        "\n",
        "for comment in preprocessed_comments:\n",
        "    preprocessed_text = comment['preprocessed_text']\n",
        "    sentiment = analyze_sentiment(preprocessed_text)\n",
        "    comment['sentiment'] = sentiment\n",
        "\n",
        "csv_file_with_sentiment = 'preprocessed_comments_with_sentiment.csv'\n",
        "fieldnames_with_sentiment = ['comment_id', 'preprocessed_text', 'sentiment']\n",
        "\n",
        "with open(csv_file_with_sentiment, 'w', newline='') as file:\n",
        "    writer = csv.DictWriter(file, fieldnames=fieldnames_with_sentiment)\n",
        "    writer.writeheader()\n",
        "    writer.writerows(preprocessed_comments)\n"
      ],
      "metadata": {
        "colab": {
          "base_uri": "https://localhost:8080/"
        },
        "id": "feIQo3ZDtsvB",
        "outputId": "214e8b1b-0737-4c39-cda7-69f25362e971"
      },
      "execution_count": null,
      "outputs": [
        {
          "output_type": "stream",
          "name": "stderr",
          "text": [
            "[nltk_data] Downloading package vader_lexicon to /root/nltk_data...\n",
            "[nltk_data]   Package vader_lexicon is already up-to-date!\n"
          ]
        }
      ]
    },
    {
      "cell_type": "markdown",
      "source": [
        "TOPPIC MODELLING"
      ],
      "metadata": {
        "id": "A9vmBw3huuuU"
      }
    },
    {
      "cell_type": "code",
      "source": [
        "import gensim\n",
        "from gensim import corpora\n",
        "\n",
        "preprocessed_texts = [comment['preprocessed_text'] for comment in preprocessed_comments]\n",
        "dictionary = corpora.Dictionary([text.split() for text in preprocessed_texts])\n",
        "corpus = [dictionary.doc2bow(text.split()) for text in preprocessed_texts]\n",
        "\n",
        "#  LDA model\n",
        "num_topics = 5  \n",
        "lda_model = gensim.models.LdaModel(corpus=corpus, id2word=dictionary, num_topics=num_topics, passes=10)\n",
        "\n",
        "#  topics and their associated keywords\n",
        "for idx, topic in lda_model.print_topics():\n",
        "    print(f'Topic #{idx + 1}: {topic}')\n",
        "\n",
        "# dominant topic for each comment\n",
        "dominant_topics = []\n",
        "for comment_bow in corpus:\n",
        "    topic_distribution = lda_model.get_document_topics(comment_bow)\n",
        "    dominant_topic = max(topic_distribution, key=lambda x: x[1])\n",
        "    dominant_topics.append(dominant_topic[0])\n",
        "\n",
        "\n",
        "for i, comment in enumerate(preprocessed_comments):\n",
        "    comment['dominant_topic'] = dominant_topics[i]\n",
        "\n",
        "#  CSV file\n",
        "csv_file_with_topics = 'preprocessed_comments_with_topics.csv'\n",
        "fieldnames_with_topics = ['comment_id', 'preprocessed_text', 'sentiment', 'dominant_topic']\n",
        "\n",
        "with open(csv_file_with_topics, 'w', newline='') as file:\n",
        "    writer = csv.DictWriter(file, fieldnames=fieldnames_with_topics)\n",
        "    writer.writeheader()\n",
        "    writer.writerows(preprocessed_comments)\n"
      ],
      "metadata": {
        "id": "BYIXDfmouxLo"
      },
      "execution_count": null,
      "outputs": []
    },
    {
      "cell_type": "markdown",
      "source": [
        "USER SEGMENTATION"
      ],
      "metadata": {
        "id": "eaM4wG3-2D5n"
      }
    },
    {
      "cell_type": "code",
      "source": [
        "caregiver_comments = []\n",
        "patient_comments = []\n",
        "family_member_comments = []\n",
        "healthcare_professional_comments = []\n",
        "default_comments = []\n",
        "\n",
        "\n",
        "# Iterate through the comments\n",
        "for comment in comments:\n",
        "    text = comment[\"text\"].lower()\n",
        "    \n",
        "    # keywords that may be indicating the role or relationship\n",
        "    if \"caregiver\" in text or \"caregiving\" in text:\n",
        "        caregiver_comments.append(comment)\n",
        "    elif \"patient\" in text:\n",
        "        patient_comments.append(comment)\n",
        "    elif \"family member\" in text:\n",
        "        family_member_comments.append(comment)\n",
        "    elif \"healthcare professional\" in text or \"doctor\" in text or \"nurse\" in text:\n",
        "        healthcare_professional_comments.append(comment)\n",
        "    else:\n",
        "      \n",
        "        default_comments.append(comment)\n"
      ],
      "metadata": {
        "id": "SjJV9p-92Gqu"
      },
      "execution_count": null,
      "outputs": []
    },
    {
      "cell_type": "code",
      "source": [
        "import csv\n",
        "file_path = \"segmented_comments.csv\"\n",
        "fieldnames = [\"Role\", \"Comment\"]\n",
        "with open(file_path, \"w\", newline=\"\") as csvfile:\n",
        "    writer = csv.DictWriter(csvfile, fieldnames=fieldnames)\n",
        "\n",
        "    writer.writeheader()\n",
        "    \n",
        "    # caregiver comments\n",
        "    for comment in caregiver_comments:\n",
        "        writer.writerow({\"Role\": \"Caregiver\", \"Comment\": comment[\"text\"]})\n",
        "    \n",
        "    #  patient comments\n",
        "    for comment in patient_comments:\n",
        "        writer.writerow({\"Role\": \"Patient\", \"Comment\": comment[\"text\"]})\n",
        "    \n",
        "    #  family member comms\n",
        "    for comment in family_member_comments:\n",
        "        writer.writerow({\"Role\": \"Family Member\", \"Comment\": comment[\"text\"]})\n",
        "    \n",
        "    # the healthcare professional comments\n",
        "    for comment in healthcare_professional_comments:\n",
        "        writer.writerow({\"Role\": \"Healthcare Professional\", \"Comment\": comment[\"text\"]})\n",
        "    \n",
        "    # Write the default comments\n",
        "    for comment in default_comments:\n",
        "        writer.writerow({\"Role\": \"Default\", \"Comment\": comment[\"text\"]})\n",
        "\n"
      ],
      "metadata": {
        "colab": {
          "base_uri": "https://localhost:8080/"
        },
        "id": "8d9UBl-U20n9",
        "outputId": "7a5c3be6-58d5-46a3-8563-66926e41612c"
      },
      "execution_count": null,
      "outputs": [
        {
          "output_type": "stream",
          "name": "stdout",
          "text": [
            "Segmented comments have been saved to segmented_comments.csv.\n"
          ]
        }
      ]
    },
    {
      "cell_type": "code",
      "source": [
        "import matplotlib.pyplot as plt\n",
        "\n",
        "role_counts = {\n",
        "    \"Caregiver\": len(caregiver_comments),\n",
        "    \"Patient\": len(patient_comments),\n",
        "    \"Family Member\": len(family_member_comments),\n",
        "    \"Healthcare Professional\": len(healthcare_professional_comments),\n",
        "    \"Default\": len(default_comments)\n",
        "}\n",
        "\n",
        "roles = list(role_counts.keys())\n",
        "comment_counts = list(role_counts.values())\n",
        "\n",
        "# histogram with the number of comments per each category\n",
        "plt.bar(roles, comment_counts)\n",
        "plt.title(\"Comment Distribution by Role\")\n",
        "plt.xlabel(\"Role\")\n",
        "plt.ylabel(\"Comment Count\")\n",
        "plt.show()\n"
      ],
      "metadata": {
        "colab": {
          "base_uri": "https://localhost:8080/",
          "height": 472
        },
        "id": "TZ1QsKOe2_m6",
        "outputId": "f45c5f0c-71b4-448b-f5a9-7c65f79baf81"
      },
      "execution_count": null,
      "outputs": [
        {
          "output_type": "display_data",
          "data": {
            "text/plain": [
              "<Figure size 640x480 with 1 Axes>"
            ],
            "image/png": "[encoded data removed]"
          },
          "metadata": {}
        }
      ]
    },
    {
      "cell_type": "code",
      "source": [
        "from nltk.sentiment import SentimentIntensityAnalyzer\n",
        "\n",
        "# we pwrform a SentimentIntensityAnalyzer\n",
        "sia = SentimentIntensityAnalyzer()\n",
        "\n",
        "sentiment_scores = {}\n",
        "\n",
        "caregiver_sentiment = [sia.polarity_scores(comment[\"text\"])[\"compound\"] for comment in caregiver_comments]\n",
        "sentiment_scores[\"Caregiver\"] = sum(caregiver_sentiment) / len(caregiver_sentiment)\n",
        "\n",
        "patient_sentiment = [sia.polarity_scores(comment[\"text\"])[\"compound\"] for comment in patient_comments]\n",
        "sentiment_scores[\"Patient\"] = sum(patient_sentiment) / len(patient_sentiment)\n",
        "\n",
        "family_member_sentiment = [sia.polarity_scores(comment[\"text\"])[\"compound\"] for comment in family_member_comments]\n",
        "sentiment_scores[\"Family Member\"] = sum(family_member_sentiment) / len(family_member_sentiment)\n",
        "\n",
        "healthcare_professional_sentiment = [sia.polarity_scores(comment[\"text\"])[\"compound\"] for comment in healthcare_professional_comments]\n",
        "sentiment_scores[\"Healthcare Professional\"] = sum(healthcare_professional_sentiment) / len(healthcare_professional_sentiment)\n",
        "\n",
        "default_sentiment = [sia.polarity_scores(comment[\"text\"])[\"compound\"] for comment in default_comments]\n",
        "sentiment_scores[\"Default\"] = sum(default_sentiment) / len(default_sentiment)\n",
        "\n",
        "for category, score in sentiment_scores.items():\n",
        "    print(f\"{category}: {score}\")\n"
      ],
      "metadata": {
        "colab": {
          "base_uri": "https://localhost:8080/"
        },
        "id": "zy1Tua4a3ZPZ",
        "outputId": "8046dad7-f9f7-4751-c76d-c26537b2a6aa"
      },
      "execution_count": null,
      "outputs": [
        {
          "output_type": "stream",
          "name": "stdout",
          "text": [
            "Caregiver: 0.4422164634146342\n",
            "Patient: 0.21479964539007088\n",
            "Family Member: 0.30862753623188405\n",
            "Healthcare Professional: 0.23437893569844806\n",
            "Default: 0.17595267753948807\n"
          ]
        }
      ]
    },
    {
      "cell_type": "code",
      "source": [
        "\n",
        "\n",
        "# sentiment per data\n",
        "df = pd.read_csv('/content/preprocessed_comments_with_topics.csv')\n",
        "\n",
        "sentiment_counts = df['sentiment'].value_counts()\n",
        "\n",
        "# Calculate the percentage for each sentiment value\n",
        "sentiment_percentages = (sentiment_counts / len(df)) * 100\n",
        "\n",
        "print(sentiment_percentages)\n"
      ],
      "metadata": {
        "colab": {
          "base_uri": "https://localhost:8080/"
        },
        "id": "haokiwKMJs6_",
        "outputId": "aae9c5cb-c5d5-41a3-c077-c8143a0823d5"
      },
      "execution_count": 1,
      "outputs": [
        {
          "output_type": "stream",
          "name": "stdout",
          "text": [
            "positive    50.801839\n",
            "neutral     27.587754\n",
            "negative    21.610407\n",
            "Name: sentiment, dtype: float64\n"
          ]
        }
      ]
    }
  ]
}